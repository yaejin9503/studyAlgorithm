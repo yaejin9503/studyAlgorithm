{
 "cells": [
  {
   "cell_type": "markdown",
   "metadata": {},
   "source": [
    "## 대표적인 정렬4: 병합 정렬 (merge sort)"
   ]
  },
  {
   "cell_type": "markdown",
   "metadata": {},
   "source": [
    "### 1. 병합 정렬 (merge sort) \n",
    "* 재귀용법을 활용한 정렬 알고리즘\n",
    "  1. 리스트를 절반으로 잘라 비슷한 크기의 두 부분 리스트로 나눈다.\n",
    "  2. 각 부분 리스트를 재귀적으로 합병 정렬을 이용해 정렬한다.\n",
    "  3. 두 부분 리스트를 다시 하나의 정렬된 리스트로 합병한다.\n"
   ]
  },
  {
   "cell_type": "markdown",
   "metadata": {},
   "source": [
    "### 2. 알고리즘 이해\n",
    "* 데이터가 네 개 일때 (데이터 갯수에 따라 복잡도가 떨어지는 것은 아니므로, 네 개로 바로 로직을 이해해보자.)\n",
    "  - 예: data_list = [1, 9, 3, 2]\n",
    "    - 먼저 [1, 9], [3, 2] 로 나누고\n",
    "    - 다시 앞 부분은 [1], [9] 로 나누고\n",
    "    - 다시 정렬해서 합친다. [1, 9]\n",
    "    - 다음 [3, 2] 는 [3], [2] 로 나누고\n",
    "    - 다시 정렬해서 합친다 [2, 3]\n",
    "    - 이제 [1, 9] 와 [2, 3]을 합친다.\n",
    "      - 1 < 2 이니 [1]\n",
    "      - 9 > 2 이니 [1, 2]\n",
    "      - 9 > 3 이니 [1, 2, 3]\n",
    "      - 9 밖에 없으니, [1, 2, 3, 9]"
   ]
  },
  {
   "cell_type": "markdown",
   "metadata": {},
   "source": [
    "<div class=\"alert alert-block alert-warning\">\n",
    "<strong><font color=\"blue\" size=\"4em\">프로그래밍 연습</font></strong><br>\n",
    "어떤 데이터리스트가 있을 때 리스트를 앞뒤로 짜르는 코드 작성해보기 (일반화)\n",
    "</div>"
   ]
  },
  {
   "cell_type": "code",
   "execution_count": 2,
   "metadata": {},
   "outputs": [],
   "source": [
    "def split(data): \n",
    "    medium = int(len(data)/2) # 2  \n",
    "    left = data[:medium]  # 0, 1 \n",
    "    right = data[medium:] # 2 , 3 , 4 \n",
    "    print(left, right) "
   ]
  },
  {
   "cell_type": "code",
   "execution_count": 3,
   "metadata": {},
   "outputs": [
    {
     "name": "stdout",
     "output_type": "stream",
     "text": [
      "[3, 4] [1, 3, 2]\n"
     ]
    }
   ],
   "source": [
    "data_list = [3,4,1,3,2]\n",
    "split(data_list) "
   ]
  },
  {
   "cell_type": "markdown",
   "metadata": {},
   "source": [
    "<div class=\"alert alert-block alert-warning\">\n",
    "<strong><font color=\"blue\" size=\"4em\">프로그래밍 연습</font></strong><br>\n",
    "</div>\n",
    "<pre>\n",
    "다음 문장을 코드로 작성해보기 (merge함수는 아직은 없는 상태, 있다고만 가정)\n",
    "* mergesplit 함수 만들기\n",
    "  - 만약 리스트 갯수가 한개이면 해당 값 리턴\n",
    "  - 그렇지 않으면, 리스트를 앞뒤, 두 개로 나누기\n",
    "  - left = mergesplit(앞)\n",
    "  - right = mergesplit(뒤)\n",
    "  - merge(left, right)\n",
    "</pre>"
   ]
  },
  {
   "cell_type": "code",
   "execution_count": 6,
   "metadata": {},
   "outputs": [],
   "source": [
    "def mergesplit(data): \n",
    "    if len(data) <=1: \n",
    "        return data \n",
    "    medium = int(len(data) / 2) \n",
    "    left = mergesplit(data[:medium])\n",
    "    right = mergesplit(data[medium:]) \n",
    "    return merge(left, right)    "
   ]
  },
  {
   "cell_type": "markdown",
   "metadata": {},
   "source": [
    "<div class=\"alert alert-block alert-warning\">\n",
    "<strong><font color=\"blue\" size=\"4em\">프로그래밍 연습</font></strong><br>\n",
    "</div>\n",
    "\n",
    "1. left 부터 하나씩 right과 비교\n",
    "2. left > right 이면, left 를 sorted_list에 넣고, 다음 left 리스트와 right 비교\n",
    "   - 그렇지않으면 반대로 하기\n",
    "<pre>\n",
    "다음 경우만 프로그래밍으로 작성해보기\n",
    "left = [0]\n",
    "right = [3]\n",
    "결과는 별도의 리스트 변수를 만들어 적은 숫자 순으로 순서대로 저장해서 리턴\n",
    "</pre>"
   ]
  },
  {
   "cell_type": "code",
   "execution_count": 29,
   "metadata": {},
   "outputs": [],
   "source": [
    "def sorted(left, right): \n",
    "    sorted_arrys = list() \n",
    "    left_point = 0\n",
    "    right_point = 0 \n",
    "    while len(left) > left_point and len(right) > right_point: \n",
    "        if left[left_point] > right[right_point]:\n",
    "            sorted_arrys.append(right[right_point]) \n",
    "            right_point +=1\n",
    "        else: \n",
    "            sorted_arrys.append(left[left_point]) \n",
    "            left_point +=1 \n",
    "    while len(left) > left_point: \n",
    "        sorted_arrys.append(left[left_point]) \n",
    "        left_point +=1 \n",
    "    while len(right) > right_point:\n",
    "        sorted_arrys.append(right[right_point]) \n",
    "        right_point +=1 \n",
    "    \n",
    "    return sorted_arrys "
   ]
  },
  {
   "cell_type": "code",
   "execution_count": 33,
   "metadata": {},
   "outputs": [
    {
     "data": {
      "text/plain": [
       "[0, 1, 2, 3]"
      ]
     },
     "execution_count": 33,
     "metadata": {},
     "output_type": "execute_result"
    }
   ],
   "source": [
    "left = list() \n",
    "right = list() \n",
    "\n",
    "left.append(0) \n",
    "left.append(2) \n",
    "right.append(1)\n",
    "right.append(3)\n",
    "\n",
    "sorted(left,right) "
   ]
  },
  {
   "cell_type": "markdown",
   "metadata": {},
   "source": [
    "### merge 함수 만들기\n",
    "* 목표: left 와 right 의 리스트 데이터를 정렬해서 sorted_list 라는 이름으로 return 하기\n",
    "* left와 right는 이미 정렬된 상태 또는 데이터가 하나임"
   ]
  },
  {
   "cell_type": "code",
   "execution_count": 34,
   "metadata": {},
   "outputs": [],
   "source": [
    "def merge(left, right): \n",
    "    merged = list() \n",
    "    left_point, right_point = 0,0 \n",
    "    \n",
    "    #case 1 : left / right 아직 남아있을 때 \n",
    "    while len(left) > left_point and len(right) > right_point: # 아직 데이터가 남아있을 때 \n",
    "        if left[left_point] > right[right_point]: \n",
    "            merged.append(right[right_point]) \n",
    "            right_point +=1 \n",
    "        else: \n",
    "            merged.append(left[left_point]) \n",
    "            left_point += 1 \n",
    "    #case 2 : left 만 남아있을 때 \n",
    "    while len(left) > left_point: \n",
    "        merged.append(left[left_point]) \n",
    "        left_point +=1 \n",
    "    \n",
    "    #case 3 : right만 남아있을 때 \n",
    "    while len(right) > right_point:\n",
    "        merged.append(right[right_point]) \n",
    "        right_point += 1 \n",
    "    \n",
    "    return merged           "
   ]
  },
  {
   "cell_type": "markdown",
   "metadata": {},
   "source": [
    "### 최종 코드 "
   ]
  },
  {
   "cell_type": "code",
   "execution_count": 37,
   "metadata": {},
   "outputs": [],
   "source": [
    "def mergesplit(data): \n",
    "    if len(data) <=1: \n",
    "        return data \n",
    "    medium = int(len(data) / 2) \n",
    "    left = mergesplit(data[:medium])\n",
    "    right = mergesplit(data[medium:]) \n",
    "    return merge(left, right)    \n",
    "\n",
    "def merge(left, right): \n",
    "    merged = list() \n",
    "    left_point, right_point = 0,0 \n",
    "    \n",
    "    #case 1 : left / right 아직 남아있을 때 \n",
    "    while len(left) > left_point and len(right) > right_point: # 아직 데이터가 남아있을 때 \n",
    "        if left[left_point] > right[right_point]: \n",
    "            merged.append(right[right_point]) \n",
    "            right_point +=1 \n",
    "        else: \n",
    "            merged.append(left[left_point]) \n",
    "            left_point += 1 \n",
    "    #case 2 : left 만 남아있을 때 \n",
    "    while len(left) > left_point: \n",
    "        merged.append(left[left_point]) \n",
    "        left_point +=1 \n",
    "    \n",
    "    #case 3 : right만 남아있을 때 \n",
    "    while len(right) > right_point:\n",
    "        merged.append(right[right_point]) \n",
    "        right_point += 1 \n",
    "    \n",
    "    return merged   \n"
   ]
  },
  {
   "cell_type": "code",
   "execution_count": 39,
   "metadata": {},
   "outputs": [
    {
     "data": {
      "text/plain": [
       "[1, 4, 6, 17, 23, 28, 53, 56, 61, 62]"
      ]
     },
     "execution_count": 39,
     "metadata": {},
     "output_type": "execute_result"
    }
   ],
   "source": [
    "import random\n",
    "\n",
    "data_list = random.sample(range(100),10)\n",
    "\n",
    "mergesplit(data_list)"
   ]
  }
 ],
 "metadata": {
  "kernelspec": {
   "display_name": "Python 3",
   "language": "python",
   "name": "python3"
  },
  "language_info": {
   "codemirror_mode": {
    "name": "ipython",
    "version": 3
   },
   "file_extension": ".py",
   "mimetype": "text/x-python",
   "name": "python",
   "nbconvert_exporter": "python",
   "pygments_lexer": "ipython3",
   "version": "3.7.6"
  }
 },
 "nbformat": 4,
 "nbformat_minor": 4
}
