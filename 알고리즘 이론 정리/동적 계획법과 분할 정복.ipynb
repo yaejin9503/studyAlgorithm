{
 "cells": [
  {
   "cell_type": "markdown",
   "metadata": {},
   "source": [
    "## 동적 계획법 (Dynamic Programming)"
   ]
  },
  {
   "cell_type": "markdown",
   "metadata": {},
   "source": [
    "### 1. 정의 \n",
    "- 동적 계획법 (DP 라고 많이 부름)\n",
    "   - 입력 크기가 작은 부분 문제들을 해결 한 후, 해당 부분 문제의 해를 활용해서,보다 큰 크기의 부분 문제를 해결, 최종적으로 전체 문제를 해결하는 알고리즘 \n",
    "   - 상향식 접근법으로, 가장 최하위 해답을 구한 후, 이를 저장하고, 해당 결과 값을 이용해서 상위 문제를 풀어나가는 방식 \n",
    "   - Memoization 기법을 사용함 \n",
    "       - Memoization(메모이제이션) 이란 : 프로그램 실행 시 이전에 계산한 값을 저장하여, 다시 계산하지 않도록 하여 전체 실행 속도를 빠르게 하는 기술 \n",
    "   - 문제를 잘게 쪼갤 때, 부분 문제는 중복되어, 재활용됨 \n",
    "       - 예 : 피보나치 수열 \n",
    "       "
   ]
  },
  {
   "cell_type": "markdown",
   "metadata": {},
   "source": [
    "### 2. 공통점과 차이점\n",
    "- 공통점\n",
    "  - 문제를 잘게 쪼개서, 가장 작은 단위로 분할\n",
    "- 차이점\n",
    "  - 동적 계획법\n",
    "    - 부분 문제는 중복되어, 상위 문제 해결 시 재활용됨\n",
    "    - Memoization 기법 사용 (부분 문제의 해답을 저장해서 재활용하는 최적화 기법으로 사용)\n",
    "  - 분할 정복\n",
    "    - 부분 문제는 서로 중복되지 않음\n",
    "    - Memoization 기법 사용 안함"
   ]
  },
  {
   "cell_type": "markdown",
   "metadata": {},
   "source": [
    "### 프로그래밍 연습 - 동적 계획법 (피보나치 수열) "
   ]
  },
  {
   "cell_type": "markdown",
   "metadata": {},
   "source": [
    "### recursive call 활용"
   ]
  },
  {
   "cell_type": "code",
   "execution_count": 1,
   "metadata": {},
   "outputs": [],
   "source": [
    "def fibo(num):\n",
    "    if num <=1:\n",
    "        return num \n",
    "    return fibo(num-1) + fibo(num-2) "
   ]
  },
  {
   "cell_type": "code",
   "execution_count": 2,
   "metadata": {},
   "outputs": [
    {
     "data": {
      "text/plain": [
       "3"
      ]
     },
     "execution_count": 2,
     "metadata": {},
     "output_type": "execute_result"
    }
   ],
   "source": [
    "fibo(4)"
   ]
  },
  {
   "cell_type": "markdown",
   "metadata": {},
   "source": [
    "### 동적 계획법의 활용 "
   ]
  },
  {
   "cell_type": "code",
   "execution_count": null,
   "metadata": {},
   "outputs": [],
   "source": [
    "def fibo(num):\n",
    "    cache = [0 for index in range(num +1)] \n",
    "    cache[0] = 0 \n",
    "    cache[1] = 1 \n",
    "    \n",
    "    for index in range(2,num+1):\n",
    "        cache[index] = cache[index-1] + cache[index-2]\n",
    "\n",
    "    return cache[num] "
   ]
  }
 ],
 "metadata": {
  "kernelspec": {
   "display_name": "Python 3",
   "language": "python",
   "name": "python3"
  },
  "language_info": {
   "codemirror_mode": {
    "name": "ipython",
    "version": 3
   },
   "file_extension": ".py",
   "mimetype": "text/x-python",
   "name": "python",
   "nbconvert_exporter": "python",
   "pygments_lexer": "ipython3",
   "version": "3.7.6"
  }
 },
 "nbformat": 4,
 "nbformat_minor": 4
}
